{
 "metadata": {
  "language_info": {
   "codemirror_mode": {
    "name": "ipython",
    "version": 3
   },
   "file_extension": ".py",
   "mimetype": "text/x-python",
   "name": "python",
   "nbconvert_exporter": "python",
   "pygments_lexer": "ipython3",
   "version": "3.8.5-final"
  },
  "orig_nbformat": 2,
  "kernelspec": {
   "name": "python3",
   "display_name": "Python 3"
  }
 },
 "nbformat": 4,
 "nbformat_minor": 2,
 "cells": [
  {
   "cell_type": "code",
   "execution_count": 2,
   "metadata": {},
   "outputs": [
    {
     "output_type": "stream",
     "name": "stdout",
     "text": [
      "Collecting pyspark\n",
      "  Downloading pyspark-3.0.1.tar.gz (204.2 MB)\n",
      "Collecting py4j==0.10.9\n",
      "  Downloading py4j-0.10.9-py2.py3-none-any.whl (198 kB)\n",
      "Building wheels for collected packages: pyspark\n",
      "  Building wheel for pyspark (setup.py): started\n",
      "  Building wheel for pyspark (setup.py): finished with status 'done'\n",
      "  Created wheel for pyspark: filename=pyspark-3.0.1-py2.py3-none-any.whl size=204612247 sha256=8bae40bf5ed5cb44f15bbc34a6dde1c817299769c832c10acfc8f9108c19620d\n",
      "  Stored in directory: c:\\users\\anw_1\\appdata\\local\\pip\\cache\\wheels\\ea\\21\\84\\970b03913d0d6a96ef51c34c878add0de9e4ecbb7c764ea21f\n",
      "Successfully built pyspark\n",
      "Installing collected packages: py4j, pyspark\n",
      "Successfully installed py4j-0.10.9 pyspark-3.0.1\n",
      "WARNING: You are using pip version 20.2.3; however, version 20.2.4 is available.\n",
      "You should consider upgrading via the 'c:\\users\\anw_1\\appdata\\local\\programs\\python\\python38-32\\python.exe -m pip install --upgrade pip' command.\n"
     ]
    }
   ],
   "source": [
    "!pip install pyspark"
   ]
  },
  {
   "cell_type": "code",
   "execution_count": 3,
   "metadata": {},
   "outputs": [],
   "source": [
    "from zipfile import ZipFile\n",
    "import pandas as pd\n",
    "from pyspark.sql import SparkSession\n",
    "from pyspark.sql.functions import udf, col\n",
    "from pyspark.sql.functions import year, month, dayofmonth, hour, weekofyear, date_format"
   ]
  },
  {
   "cell_type": "code",
   "execution_count": 4,
   "metadata": {
    "tags": [
     "outputPrepend"
    ]
   },
   "outputs": [
    {
     "output_type": "stream",
     "name": "stdout",
     "text": [
      "song_data/A/B/B/TRABBAM128F429D223.json        2019-01-24 16:18:04          276\nsong_data/A/B/B/TRABBBV128F42967D7.json        2019-01-24 16:18:04          253\nsong_data/A/B/B/TRABBJE12903CDB442.json        2019-01-24 16:18:04          278\nsong_data/A/B/B/TRABBKX128F4285205.json        2019-01-24 16:18:04          281\nsong_data/A/B/B/TRABBLU128F93349CF.json        2019-01-24 16:18:04          276\nsong_data/A/B/B/TRABBNP128F932546F.json        2019-01-24 16:18:04          250\nsong_data/A/B/B/TRABBOP128F931B50D.json        2019-01-24 16:18:04          281\nsong_data/A/B/B/TRABBOR128F4286200.json        2019-01-24 16:18:04          354\nsong_data/A/B/B/TRABBTA128F933D304.json        2019-01-24 16:18:04          273\nsong_data/A/B/B/TRABBVJ128F92F7EAA.json        2019-01-24 16:18:06          267\nsong_data/A/B/B/TRABBXU128F92FEF48.json        2019-01-24 16:18:06          268\nsong_data/A/B/B/TRABBZN12903CD9297.json        2019-01-24 16:18:06          265\nsong_data/A/B/C/                               2019-01-28 14:45:50            0\nsong_data/A/B/C/TRABCAJ12903CDFCC2.json        2019-01-24 16:18:06          255\nsong_data/A/B/C/TRABCEC128F426456E.json        2019-01-24 16:18:06          263\nsong_data/A/B/C/TRABCEI128F424C983.json        2019-01-24 16:18:06          254\nsong_data/A/B/C/TRABCFL128F149BB0D.json        2019-01-24 16:18:06          303\nsong_data/A/B/C/TRABCIX128F4265903.json        2019-01-24 16:18:06          304\nsong_data/A/B/C/TRABCKL128F423A778.json        2019-01-24 16:18:06          295\nsong_data/A/B/C/TRABCPZ128F4275C32.json        2019-01-24 16:18:06          250\nsong_data/A/B/C/TRABCRU128F423F449.json        2019-01-24 16:18:06          252\nsong_data/A/B/C/TRABCTK128F934B224.json        2019-01-24 16:18:06          238\nsong_data/A/B/C/TRABCUQ128E0783E2B.json        2019-01-24 16:18:06          253\nsong_data/A/B/C/TRABCXB128F4286BD3.json        2019-01-24 16:18:06          261\nsong_data/A/B/C/TRABCYE128F934CE1D.json        2019-01-24 16:18:06          261\n"
     ]
    }
   ],
   "source": [
    "with ZipFile('data/song-data.zip','r') as zip:\n",
    "    zip.printdir()"
   ]
  },
  {
   "cell_type": "code",
   "execution_count": 1,
   "metadata": {},
   "outputs": [
    {
     "output_type": "stream",
     "name": "stdout",
     "text": [
      "ahmed\n"
     ]
    }
   ],
   "source": [
    "print('ahmed')"
   ]
  },
  {
   "cell_type": "code",
   "execution_count": null,
   "metadata": {},
   "outputs": [],
   "source": []
  }
 ]
}